{
 "cells": [
  {
   "cell_type": "code",
   "execution_count": 2,
   "metadata": {},
   "outputs": [],
   "source": [
    "\n",
    "import pandas as pd\n",
    "import numpy as np\n",
    "import matplotlib.pyplot as plt\n",
    "%matplotlib inline"
   ]
  },
  {
   "cell_type": "code",
   "execution_count": 3,
   "metadata": {},
   "outputs": [
    {
     "name": "stderr",
     "output_type": "stream",
     "text": [
      "C:\\Users\\muham\\AppData\\Local\\Temp\\ipykernel_7504\\4261615963.py:2: FutureWarning: In a future version of pandas all arguments of DataFrame.dropna will be keyword-only.\n",
      "  data_won = data.dropna(1)\n"
     ]
    }
   ],
   "source": [
    "data = pd.read_csv(\"train.csv\")\n",
    "data_won = data.dropna(1)\n"
   ]
  },
  {
   "cell_type": "code",
   "execution_count": 8,
   "metadata": {},
   "outputs": [],
   "source": [
    "#show columns that have only one value\n",
    "for col in data_won.columns:\n",
    "    if len(data_won[col].unique()) == 1:\n",
    "        print(col)\n"
   ]
  },
  {
   "cell_type": "code",
   "execution_count": 9,
   "metadata": {},
   "outputs": [
    {
     "name": "stdout",
     "output_type": "stream",
     "text": [
      "0.9205514385333857\n"
     ]
    },
    {
     "data": {
      "text/plain": [
       "[<matplotlib.lines.Line2D at 0x1b610232b60>]"
      ]
     },
     "execution_count": 9,
     "metadata": {},
     "output_type": "execute_result"
    },
    {
     "data": {
      "image/png": "[encoded data removed]",
      "text/plain": [
       "<Figure size 432x288 with 1 Axes>"
      ]
     },
     "metadata": {
      "needs_background": "light"
     },
     "output_type": "display_data"
    }
   ],
   "source": [
    "Y = data[data.columns[-1]]\n",
    "X =pd.get_dummies(data_won.drop([\"SalePrice\"], axis=1).drop([\"Id\"], axis=1))\n",
    "X_design = X.copy()\n",
    "X_design[\"intercept\"] = 1\n",
    "\n",
    "cols = X_design.columns.tolist()\n",
    "cols = cols[-1:] + cols[:-1]\n",
    "X_design = X_design[cols]\n",
    "\n",
    "tn_X = X_design.transpose().dot(X_design)\n",
    "df_inv = pd.DataFrame(np.linalg.pinv(tn_X), tn_X.columns, tn_X.index)\n",
    "coefficents  = df_inv.dot(X_design.transpose()).dot(Y)\n",
    "X_design.dot(coefficents)\n",
    "ee = (Y-X_design.dot(coefficents)).dot((Y-X_design.dot(coefficents)).transpose())\n",
    "first = (Y - np.mean(Y)).transpose().dot(Y - np.mean(Y))\n",
    "R_square = 1 - ee/first\n",
    "plt.scatter(X_design.dot(coefficents), Y)\n",
    "plot_range = plt.xlim()\n",
    "plt.plot([plot_range[0], plot_range[1]], [plot_range[0], plot_range[1]],color=\"red\")"
   ]
  },
  {
   "cell_type": "code",
   "execution_count": 6,
   "metadata": {},
   "outputs": [
    {
     "name": "stderr",
     "output_type": "stream",
     "text": [
      "C:\\Users\\muham\\AppData\\Local\\Temp\\ipykernel_7504\\3924149652.py:4: RuntimeWarning: invalid value encountered in sqrt\n",
      "  standard_error = np.diagonal(res_var*np.linalg.pinv(tn_X))**(1/2)\n"
     ]
    }
   ],
   "source": [
    "df = len(Y)-X.shape[1]-1\n",
    "res = Y-X_design.dot(coefficents)\n",
    "res_var =  res.transpose().dot(res)/df\n",
    "standard_error = np.diagonal(res_var*np.linalg.pinv(tn_X))**(1/2)\n",
    "t_value = coefficents/standard_error\n"
   ]
  },
  {
   "cell_type": "code",
   "execution_count": 7,
   "metadata": {},
   "outputs": [
    {
     "name": "stdout",
     "output_type": "stream",
     "text": [
      "['BsmtFinSF1', 'BsmtUnfSF', 'ScreenPorch', 'Foundation', 'LowQualFinSF', 'TotRmsAbvGrd', '1stFlrSF', 'PoolArea', 'YearRemodAdd', 'Neighborhood', 'MSSubClass', 'SaleCondition', 'BsmtFullBath', 'PavedDrive', 'BldgType', 'Street', 'FullBath', 'ExterQual', 'TotalBsmtSF', 'YearBuilt', 'OverallQual', 'HalfBath', 'LandSlope', 'HouseStyle', 'Functional', 'MiscVal', 'LotShape', 'GarageCars', 'GarageArea', 'HeatingQC', 'MoSold', 'BsmtFinSF2', 'LotArea', 'MSZoning', '3SsnPorch', 'WoodDeckSF', 'KitchenQual', 'intercept', 'RoofStyle', 'OverallCond', 'YrSold', 'Condition1', 'KitchenAbvGr', 'LotConfig', 'Exterior1st', 'ExterCond', 'GrLivArea', 'BsmtHalfBath', 'Condition2', 'Fireplaces', 'Exterior2nd', '2ndFlrSF', 'Utilities', 'RoofMatl', 'LandContour', 'CentralAir', 'EnclosedPorch', 'BedroomAbvGr', 'Heating', 'SaleType', 'OpenPorchSF']\n"
     ]
    }
   ],
   "source": [
    "import scipy as sp\n",
    "#Calculation of p-values\n",
    "p_values = pd.DataFrame(2*(1-sp.stats.t.cdf(abs(t_value), df)))\n",
    "p_values.index = X_design.columns\n",
    "\n",
    "#Table of estimates\n",
    "estimates = p_values\n",
    "estimates[\"coefficents\"] = coefficents\n",
    "estimates[\"t_value\"] = t_value\n",
    "estimates[\"standard_error\"] = standard_error\n",
    "estimates.columns = [\"p_value\", \"coefficents\", \"t_value\", \"standard_error\"]\n",
    "estimates = estimates[[\"coefficents\", \"t_value\", \"standard_error\",\"p_value\"]]\n",
    "estimates = estimates.sort_values(\"p_value\",ascending=True)\n",
    "estimates[estimates[\"p_value\"]<0.05]\n",
    "indexes = estimates.index.tolist()\n",
    "\n",
    "#list of significant variable in estimates pricing\n",
    "print(list(set(map(lambda x: x.split(\"_\")[0] if \"_\" in x else x, indexes)))) "
   ]
  },
  {
   "cell_type": "code",
   "execution_count": null,
   "metadata": {},
   "outputs": [],
   "source": []
  }
 ],
 "metadata": {
  "kernelspec": {
   "display_name": "Python 3",
   "language": "python",
   "name": "python3"
  },
  "language_info": {
   "codemirror_mode": {
    "name": "ipython",
    "version": 3
   },
   "file_extension": ".py",
   "mimetype": "text/x-python",
   "name": "python",
   "nbconvert_exporter": "python",
   "pygments_lexer": "ipython3",
   "version": "3.10.5"
  },
  "orig_nbformat": 4
 },
 "nbformat": 4,
 "nbformat_minor": 2
}
